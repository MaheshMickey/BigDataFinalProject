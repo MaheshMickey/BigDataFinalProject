{
 "cells": [
  {
   "cell_type": "code",
   "execution_count": 1,
   "id": "11e29e41-4569-4bfd-b57b-ddafabf58d37",
   "metadata": {
    "tags": []
   },
   "outputs": [],
   "source": [
    "from pyspark.sql import SparkSession\n",
    "\n",
    "spark = SparkSession.builder.getOrCreate()"
   ]
  },
  {
   "cell_type": "code",
   "execution_count": 2,
   "id": "2933127a-76a7-4330-9ce4-f134351a2025",
   "metadata": {
    "tags": []
   },
   "outputs": [],
   "source": [
    "unemployment = spark.read.format('csv').option('header','true').option('delimiter', ',').option('inferSchema', 'true').load('Unemployment in America Per US State.csv')\n",
    "unemployment.createOrReplaceTempView('unemploymentDetails')"
   ]
  },
  {
   "cell_type": "code",
   "execution_count": 4,
   "id": "c4921853-7ca8-477e-820f-486bb559c8c6",
   "metadata": {
    "tags": []
   },
   "outputs": [
    {
     "name": "stdout",
     "output_type": "stream",
     "text": [
      "+---------+----------+-----+\n",
      "|Total_SUM|State/Area|Month|\n",
      "+---------+----------+-----+\n",
      "| 31111080|California|   11|\n",
      "| 31110628|California|   12|\n",
      "| 31110145|California|   10|\n",
      "| 31106495|California|    9|\n",
      "| 31102684|California|    8|\n",
      "| 31099528|California|    7|\n",
      "| 31091865|California|    6|\n",
      "| 31085888|California|    5|\n",
      "| 31079118|California|    4|\n",
      "| 31078917|California|    1|\n",
      "| 31074445|California|    2|\n",
      "| 31074229|California|    3|\n",
      "+---------+----------+-----+\n",
      "\n"
     ]
    }
   ],
   "source": [
    "from pyspark.sql.functions import sum\n",
    "spark.sql('SELECT `Total Civilian Non-Institutional Population in State/Area` AS Total_SUM, `State/Area`, Month \\\n",
    "          FROM unemploymentDetails where Year=2022 Order by Total_SUM desc LIMIT 12').show()\n"
   ]
  },
  {
   "cell_type": "code",
   "execution_count": 87,
   "id": "055c5505-a354-42fc-bef8-141b89ffe837",
   "metadata": {
    "tags": []
   },
   "outputs": [
    {
     "name": "stdout",
     "output_type": "stream",
     "text": [
      "+---------+----------+-----+\n",
      "|Total_SUM|State/Area|Month|\n",
      "+---------+----------+-----+\n",
      "| 19282095|California|   11|\n",
      "+---------+----------+-----+\n",
      "\n"
     ]
    }
   ],
   "source": [
    "spark.sql('SELECT `Total Civilian Labor Force in State/Area` AS Total_SUM, `State/Area`, Month \\\n",
    "          FROM unemploymentDetails where Year=2022 Order by Total_SUM desc LIMIT 1').show()"
   ]
  },
  {
   "cell_type": "code",
   "execution_count": 88,
   "id": "b054d2f4-c19e-4526-b187-d66ad0b9e77f",
   "metadata": {
    "tags": []
   },
   "outputs": [
    {
     "name": "stdout",
     "output_type": "stream",
     "text": [
      "+----------------+----------+-----+\n",
      "|Total_Employment|State/Area|Month|\n",
      "+----------------+----------+-----+\n",
      "|        18512138|California|    6|\n",
      "+----------------+----------+-----+\n",
      "\n"
     ]
    }
   ],
   "source": [
    "spark.sql('SELECT `Total Employment in State/Area` AS Total_Employment, `State/Area`,Month\\\n",
    "          FROM unemploymentDetails where Year=2022 Order by Total_Employment desc LIMIT 1').show()"
   ]
  },
  {
   "cell_type": "code",
   "execution_count": 89,
   "id": "52ce2755-8e98-41af-909c-6c66f941f048",
   "metadata": {
    "tags": []
   },
   "outputs": [
    {
     "name": "stdout",
     "output_type": "stream",
     "text": [
      "+------------------+----------+-----+\n",
      "|Total_Unemployment|State/Area|Month|\n",
      "+------------------+----------+-----+\n",
      "|            994165|California|    1|\n",
      "+------------------+----------+-----+\n",
      "\n"
     ]
    }
   ],
   "source": [
    "spark.sql('SELECT `Total Unemployment in State/Area` AS Total_Unemployment, `State/Area`,Month\\\n",
    "          FROM unemploymentDetails where Year=2022 Order by Total_Unemployment desc LIMIT 1').show()"
   ]
  },
  {
   "cell_type": "code",
   "execution_count": 95,
   "id": "4efede2c-a1cc-4ab5-9d0a-ad82cc352457",
   "metadata": {
    "tags": []
   },
   "outputs": [
    {
     "name": "stdout",
     "output_type": "stream",
     "text": [
      "+------------------+----+-----+----------+\n",
      "|Total_Unemployment|Year|Month|State/Area|\n",
      "+------------------+----+-----+----------+\n",
      "|           3018611|2020|    4|California|\n",
      "|           2922491|2020|    5|California|\n",
      "|           2626144|2020|    6|California|\n",
      "|           2513656|2020|    7|California|\n",
      "|           2308593|2010|    3|California|\n",
      "|           2307066|2010|    2|California|\n",
      "|           2302825|2010|    4|California|\n",
      "|           2296700|2010|    1|California|\n",
      "|           2290204|2010|    5|California|\n",
      "|           2286213|2010|   10|California|\n",
      "+------------------+----+-----+----------+\n",
      "\n"
     ]
    }
   ],
   "source": [
    "spark.sql('SELECT MAX(`Total Unemployment in State/Area`) AS Total_Unemployment, Year, Month, `State/Area`\\\n",
    "          FROM unemploymentDetails group by Year,Month, `State/Area` order by Total_Unemployment desc LIMIT 10').show()"
   ]
  },
  {
   "cell_type": "code",
   "execution_count": 96,
   "id": "d1f53dc1-67b6-4738-83a8-bf716f80adff",
   "metadata": {
    "tags": []
   },
   "outputs": [
    {
     "name": "stdout",
     "output_type": "stream",
     "text": [
      "+----------------+----+-----+----------+\n",
      "|Total_Employment|Year|Month|State/Area|\n",
      "+----------------+----+-----+----------+\n",
      "|        18754316|2020|    1|California|\n",
      "|        18751201|2019|   12|California|\n",
      "|        18739937|2020|    2|California|\n",
      "|        18728829|2019|   11|California|\n",
      "|        18694897|2019|   10|California|\n",
      "|        18662231|2019|    9|California|\n",
      "|        18635662|2019|    8|California|\n",
      "|        18617193|2019|    7|California|\n",
      "|        18599205|2019|    6|California|\n",
      "|        18579975|2019|    5|California|\n",
      "+----------------+----+-----+----------+\n",
      "\n"
     ]
    }
   ],
   "source": [
    "spark.sql('SELECT MAX(`Total Employment in State/Area`) AS Total_Employment, Year, Month, `State/Area`\\\n",
    "          FROM unemploymentDetails group by Year,Month, `State/Area` order by Total_Employment desc LIMIT 10').show()"
   ]
  },
  {
   "cell_type": "code",
   "execution_count": 110,
   "id": "072c07ac-0c0e-47da-8e88-002645b29d62",
   "metadata": {
    "tags": []
   },
   "outputs": [
    {
     "name": "stdout",
     "output_type": "stream",
     "text": [
      "+------------+----+-----+--------------------------------+------------+\n",
      "|  State/Area|Year|Month|Total Unemployment in State/Area|MonthDetails|\n",
      "+------------+----+-----+--------------------------------+------------+\n",
      "|  California|2022|    1|                          994165|     January|\n",
      "|  California|2022|    2|                          909437|    February|\n",
      "|  California|2022|    3|                          837088|       March|\n",
      "|       Texas|2022|    1|                          630892|     January|\n",
      "|       Texas|2022|    2|                          598105|    February|\n",
      "|       Texas|2022|    3|                          569834|       March|\n",
      "|    New York|2022|    1|                          492985|     January|\n",
      "|    New York|2022|    2|                          455752|    February|\n",
      "|    New York|2022|    3|                          424179|       March|\n",
      "|     Florida|2022|    1|                          371228|     January|\n",
      "|     Florida|2022|    2|                          349523|    February|\n",
      "|     Florida|2022|    3|                          331866|       March|\n",
      "|    Illinois|2022|    1|                          308798|     January|\n",
      "|    Illinois|2022|    2|                          301178|    February|\n",
      "|    Illinois|2022|    3|                          294491|       March|\n",
      "|Pennsylvania|2022|    1|                          288837|     January|\n",
      "|Pennsylvania|2022|    2|                          284267|    February|\n",
      "|Pennsylvania|2022|    3|                          281841|       March|\n",
      "|  New Jersey|2022|    1|                          238339|     January|\n",
      "|        Ohio|2022|    1|                          235853|     January|\n",
      "+------------+----+-----+--------------------------------+------------+\n",
      "\n"
     ]
    }
   ],
   "source": [
    "spark.sql('SELECT `State/Area`, Year, Month, `Total Unemployment in State/Area`, \\\n",
    "case when Month = 1 then \"January\"\\\n",
    "when Month = 2 then \"February\" \\\n",
    "when Month = 3 then \"March\" \\\n",
    "else \"NOT IN FIRST QUARTER\" end as MonthDetails \\\n",
    "from unemploymentDetails where Year=2022 and Month in(1,2,3) order by `Total Unemployment in State/Area` desc LIMIT 20').show()"
   ]
  },
  {
   "cell_type": "code",
   "execution_count": 114,
   "id": "d692301d-5907-4aec-ab94-84ec535cbadc",
   "metadata": {
    "tags": []
   },
   "outputs": [
    {
     "name": "stdout",
     "output_type": "stream",
     "text": [
      "+------------+----+-----+------------------------------+------------+\n",
      "|  State/Area|Year|Month|Total Employment in State/Area|MonthDetails|\n",
      "+------------+----+-----+------------------------------+------------+\n",
      "|  California|2022|    3|                      18382817|       March|\n",
      "|  California|2022|    2|                      18301764|    February|\n",
      "|  California|2022|    1|                      18205836|     January|\n",
      "|       Texas|2022|    3|                      14035637|       March|\n",
      "|       Texas|2022|    2|                      13975315|    February|\n",
      "|       Texas|2022|    1|                      13905907|     January|\n",
      "|     Florida|2022|    3|                      10340203|       March|\n",
      "|     Florida|2022|    2|                      10282914|    February|\n",
      "|     Florida|2022|    1|                      10224527|     January|\n",
      "|    New York|2022|    3|                       9186959|       March|\n",
      "|    New York|2022|    2|                       9151475|    February|\n",
      "|    New York|2022|    1|                       9109926|     January|\n",
      "|Pennsylvania|2022|    3|                       6197038|       March|\n",
      "|    Illinois|2022|    3|                       6196105|       March|\n",
      "|    Illinois|2022|    2|                       6184622|    February|\n",
      "|Pennsylvania|2022|    2|                       6177395|    February|\n",
      "|    Illinois|2022|    1|                       6164248|     January|\n",
      "|Pennsylvania|2022|    1|                       6151448|     January|\n",
      "|        Ohio|2022|    3|                       5532083|       March|\n",
      "|        Ohio|2022|    2|                       5517007|    February|\n",
      "+------------+----+-----+------------------------------+------------+\n",
      "\n"
     ]
    }
   ],
   "source": [
    "spark.sql('SELECT `State/Area`, Year, Month, `Total Employment in State/Area`, \\\n",
    "case when Month = 1 then \"January\"\\\n",
    "when Month = 2 then \"February\" \\\n",
    "when Month = 3 then \"March\" \\\n",
    "else \"NOT IN FIRST QUARTER\" end as MonthDetails \\\n",
    "from unemploymentDetails where Year=2022 and Month in(1,2,3) order by `Total Employment in State/Area` desc LIMIT 20').show()"
   ]
  },
  {
   "cell_type": "code",
   "execution_count": 126,
   "id": "ea031a90-34df-4d8c-b7be-b54e8c5bf8f0",
   "metadata": {
    "tags": []
   },
   "outputs": [
    {
     "name": "stdout",
     "output_type": "stream",
     "text": [
      "+------------+----+----------------+----------------+------------+--------------+----------+----------------+--------------+-------------+------------+\n",
      "|  State/Area|Year|Total_Population|Total_LaborForce|%_LaborForce|Total_Employed|%_Employed|Total_Unemployed|%_Unemployment|Total_Matched|MonthDetails|\n",
      "+------------+----+----------------+----------------+------------+--------------+----------+----------------+--------------+-------------+------------+\n",
      "|  California|2022|        31074229|        19219905|        61.9|      18382817|      59.2|          837088|           4.4|     19219905|       March|\n",
      "|  California|2022|        31074445|        19211201|        61.8|      18301764|      58.9|          909437|           4.7|     19211201|    February|\n",
      "|  California|2022|        31078917|        19200001|        61.8|      18205836|      58.6|          994165|           5.2|     19200001|     January|\n",
      "|       Texas|2022|        22819296|        14605471|        64.0|      14035637|      61.5|          569834|           3.9|     14605471|       March|\n",
      "|       Texas|2022|        22785171|        14573420|        64.0|      13975315|      61.3|          598105|           4.1|     14573420|    February|\n",
      "|       Texas|2022|        22754672|        14536799|        63.9|      13905907|      61.1|          630892|           4.3|     14536799|     January|\n",
      "|     Florida|2022|        18011405|        10672069|        59.3|      10340203|      57.4|          331866|           3.1|     10672069|       March|\n",
      "|     Florida|2022|        17983350|        10632437|        59.1|      10282914|      57.2|          349523|           3.3|     10632437|    February|\n",
      "|     Florida|2022|        17958627|        10595755|        59.0|      10224527|      56.9|          371228|           3.5|     10595755|     January|\n",
      "|    New York|2022|        15988060|         9611138|        60.1|       9186959|      57.5|          424179|           4.4|      9611138|       March|\n",
      "|    New York|2022|        15998690|         9607227|        60.1|       9151475|      57.2|          455752|           4.7|      9607227|    February|\n",
      "|    New York|2022|        16012195|         9602911|        60.0|       9109926|      56.9|          492985|           5.1|      9602911|     January|\n",
      "|Pennsylvania|2022|        10487374|         6478879|        61.8|       6197038|      59.1|          281841|           4.4|      6478879|       March|\n",
      "|    Illinois|2022|        10043159|         6490596|        64.6|       6196105|      61.7|          294491|           4.5|      6490596|       March|\n",
      "|    Illinois|2022|        10048187|         6485800|        64.5|       6184622|      61.5|          301178|           4.6|      6485800|    February|\n",
      "|Pennsylvania|2022|        10490223|         6461662|        61.6|       6177395|      58.9|          284267|           4.4|      6461662|    February|\n",
      "|    Illinois|2022|        10055315|         6473046|        64.4|       6164248|      61.3|          308798|           4.8|      6473046|     January|\n",
      "|Pennsylvania|2022|        10495444|         6440285|        61.4|       6151448|      58.6|          288837|           4.5|      6440285|     January|\n",
      "|        Ohio|2022|         9330415|         5758127|        61.7|       5532083|      59.3|          226044|           3.9|      5758127|       March|\n",
      "|        Ohio|2022|         9330765|         5747444|        61.6|       5517007|      59.1|          230437|           4.0|      5747444|    February|\n",
      "+------------+----+----------------+----------------+------------+--------------+----------+----------------+--------------+-------------+------------+\n",
      "\n"
     ]
    }
   ],
   "source": [
    "spark.sql('SELECT `State/Area`,Year,`Total Civilian Non-Institutional Population in State/Area` as Total_Population,\\\n",
    "`Total Civilian Labor Force in State/Area` as Total_LaborForce, `Percent (%) of State/Areas Population` as `%_LaborForce`,\\\n",
    "`Total Employment in State/Area` as Total_Employed, `Percent (%) of Labor Force Employed in State/Area` as `%_Employed`,\\\n",
    "`Total Unemployment in State/Area` as Total_Unemployed, `Percent (%) of Labor Force Unemployed in State/Area` as `%_Unemployment` ,\\\n",
    "`Total Employment in State/Area`+`Total Unemployment in State/Area` as Total_Matched, case when Month = 1 then \"January\"\\\n",
    "when Month = 2 then \"February\" \\\n",
    "when Month = 3 then \"March\" \\\n",
    "else \"NOT IN FIRST QUARTER\" end as MonthDetails \\\n",
    "from unemploymentDetails where Year=2022 and Month in(1,2,3) order by `Total Employment in State/Area` desc LIMIT 20').show()"
   ]
  },
  {
   "cell_type": "code",
   "execution_count": 146,
   "id": "5a6bf0cc-471d-415b-ab9c-ea1f0a2feebc",
   "metadata": {
    "tags": []
   },
   "outputs": [
    {
     "name": "stdout",
     "output_type": "stream",
     "text": [
      "+---------+----------+----+-----+-----------+\n",
      "|FIPS Code|State/Area|Year|Month|Total_Count|\n",
      "+---------+----------+----+-----+-----------+\n",
      "|        6|California|2020|    7|   31236439|\n",
      "+---------+----------+----+-----+-----------+\n",
      "\n"
     ]
    }
   ],
   "source": [
    "spark.sql('SELECT `FIPS Code`, `State/Area`,Year,Month, `Total Civilian Non-Institutional Population in State/Area` as Total_Count \\\n",
    "FROM unemploymentDetails WHERE `Total Civilian Non-Institutional Population in State/Area` =\\\n",
    "(SELECT max(`Total Civilian Non-Institutional Population in State/Area`) as Max_Population FROM unemploymentDetails) LIMIT 1').show()\n"
   ]
  },
  {
   "cell_type": "code",
   "execution_count": 14,
   "id": "5a8fbc99-0c58-4757-a3d0-7ba864a42cbf",
   "metadata": {},
   "outputs": [
    {
     "name": "stdout",
     "output_type": "stream",
     "text": [
      "+---------+------------+\n",
      "|Total_SUM|  State/Area|\n",
      "+---------+------------+\n",
      "| 31078917|  California|\n",
      "| 22754672|       Texas|\n",
      "| 17958627|     Florida|\n",
      "| 16012195|    New York|\n",
      "| 10495444|Pennsylvania|\n",
      "| 10055315|    Illinois|\n",
      "|  9333345|        Ohio|\n",
      "|  8456830|     Georgia|\n",
      "|  8071287|    Michigan|\n",
      "|  7416181|  New Jersey|\n",
      "|  6822085|    Virginia|\n",
      "|  6194368|  Washington|\n",
      "+---------+------------+\n",
      "\n"
     ]
    }
   ],
   "source": [
    "from pyspark.sql.functions import sum\n",
    "spark.sql('SELECT `Total Civilian Non-Institutional Population in State/Area` AS Total_SUM, `State/Area` \\\n",
    "          FROM unemploymentDetails where Year=2022 and month =1 Order by Total_SUM desc LIMIT 12').show()"
   ]
  },
  {
   "cell_type": "code",
   "execution_count": null,
   "id": "5b3c65ef-c616-452d-b951-88c5ada22b1a",
   "metadata": {},
   "outputs": [],
   "source": []
  }
 ],
 "metadata": {
  "kernelspec": {
   "display_name": "Python 3 (ipykernel)",
   "language": "python",
   "name": "python3"
  },
  "language_info": {
   "codemirror_mode": {
    "name": "ipython",
    "version": 3
   },
   "file_extension": ".py",
   "mimetype": "text/x-python",
   "name": "python",
   "nbconvert_exporter": "python",
   "pygments_lexer": "ipython3",
   "version": "3.10.3"
  }
 },
 "nbformat": 4,
 "nbformat_minor": 5
}

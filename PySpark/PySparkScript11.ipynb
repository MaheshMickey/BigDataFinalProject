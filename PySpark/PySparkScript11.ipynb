{
 "cells": [
  {
   "cell_type": "code",
   "execution_count": 1,
   "id": "02c42618-31f1-4942-9e98-2e8abfacc16b",
   "metadata": {
    "tags": []
   },
   "outputs": [],
   "source": [
    "from pyspark.sql import SparkSession\n",
    "\n",
    "spark = SparkSession.builder.getOrCreate()"
   ]
  },
  {
   "cell_type": "code",
   "execution_count": 2,
   "id": "2c493cfc-3db2-401a-9943-842478017a1e",
   "metadata": {
    "tags": []
   },
   "outputs": [],
   "source": [
    "unemployment = spark.read.format('csv').option('header','true').option('delimiter', ',').option('inferSchema', 'true').load('Unemployment in America Per US State.csv')\n",
    "unemployment.createOrReplaceTempView('unemploymentDetails')"
   ]
  },
  {
   "cell_type": "code",
   "execution_count": 5,
   "id": "53765df4-b19c-42a2-a5b5-a891e1cc9376",
   "metadata": {
    "tags": []
   },
   "outputs": [
    {
     "name": "stdout",
     "output_type": "stream",
     "text": [
      "+---------+------------+\n",
      "|Total_SUM|  State/Area|\n",
      "+---------+------------+\n",
      "| 31078917|  California|\n",
      "| 22754672|       Texas|\n",
      "| 17958627|     Florida|\n",
      "| 16012195|    New York|\n",
      "| 10495444|Pennsylvania|\n",
      "| 10055315|    Illinois|\n",
      "|  9333345|        Ohio|\n",
      "|  8456830|     Georgia|\n",
      "|  8071287|    Michigan|\n",
      "|  7416181|  New Jersey|\n",
      "+---------+------------+\n",
      "\n"
     ]
    }
   ],
   "source": [
    "spark.sql('SELECT `Total Civilian Non-Institutional Population in State/Area` AS Total_SUM, `State/Area`\\\n",
    "FROM unemploymentDetails where Year=2022 and month =1 Order by Total_SUM desc LIMIT 10').show()"
   ]
  },
  {
   "cell_type": "code",
   "execution_count": 10,
   "id": "1e6a98ab-1ccb-49cb-8d02-d3538c710276",
   "metadata": {
    "tags": []
   },
   "outputs": [
    {
     "name": "stdout",
     "output_type": "stream",
     "text": [
      "+--------------------+------------+\n",
      "|           Total_SUM|  State/Area|\n",
      "+--------------------+------------+\n",
      "|        1.92419715E7|  California|\n",
      "|1.4658246083333334E7|       Texas|\n",
      "|1.0759125666666666E7|     Florida|\n",
      "|           9616510.0|    New York|\n",
      "|   6476709.333333333|Pennsylvania|\n",
      "|          6472601.75|    Illinois|\n",
      "|           5742445.5|        Ohio|\n",
      "|   5233049.916666667|     Georgia|\n",
      "|   4836169.916666667|    Michigan|\n",
      "|   4739691.333333333|  New Jersey|\n",
      "+--------------------+------------+\n",
      "\n"
     ]
    }
   ],
   "source": [
    "spark.sql('SELECT Avg(`Total Civilian Labor Force in State/Area`) AS Total_SUM, `State/Area`\\\n",
    "FROM unemploymentDetails where Year=2022 group by `State/Area`\\\n",
    "Order by Total_SUM desc LIMIT 10').show()"
   ]
  },
  {
   "cell_type": "code",
   "execution_count": 19,
   "id": "6b5096af-4e87-4453-900b-1572f526d7c4",
   "metadata": {
    "tags": []
   },
   "outputs": [
    {
     "name": "stdout",
     "output_type": "stream",
     "text": [
      "+--------------------+------------+\n",
      "|    Total_Employment|  State/Area|\n",
      "+--------------------+------------+\n",
      "|1.8437955833333332E7|  California|\n",
      "|1.4089994583333334E7|       Texas|\n",
      "|1.0446708916666666E7|     Florida|\n",
      "|   9207902.833333334|    New York|\n",
      "|          6195460.75|Pennsylvania|\n",
      "|   6178094.083333333|    Illinois|\n",
      "|          5511702.75|        Ohio|\n",
      "|          5074128.75|     Georgia|\n",
      "|   4633371.333333333|    Michigan|\n",
      "|          4565442.75|  New Jersey|\n",
      "+--------------------+------------+\n",
      "\n"
     ]
    }
   ],
   "source": [
    "spark.sql('SELECT Avg(`Total Employment in State/Area`) AS Total_Employment, `State/Area`\\\n",
    "FROM unemploymentDetails where Year=2022 group by `State/Area` Order by Total_Employment desc LIMIT 10').show()"
   ]
  },
  {
   "cell_type": "code",
   "execution_count": 31,
   "id": "b6e9f379-b32c-4c2e-be13-5d88f1193d7e",
   "metadata": {
    "tags": []
   },
   "outputs": [
    {
     "name": "stdout",
     "output_type": "stream",
     "text": [
      "+------------------+------------+\n",
      "|Total_Unemployment|  State/Area|\n",
      "+------------------+------------+\n",
      "| 804015.6666666666|  California|\n",
      "|          568251.5|       Texas|\n",
      "| 408607.1666666667|    New York|\n",
      "|         312416.75|     Florida|\n",
      "| 294507.6666666667|    Illinois|\n",
      "| 281248.5833333333|Pennsylvania|\n",
      "|         230742.75|        Ohio|\n",
      "|202798.58333333334|    Michigan|\n",
      "|174248.58333333334|  New Jersey|\n",
      "|166458.08333333334|  Washington|\n",
      "+------------------+------------+\n",
      "\n"
     ]
    }
   ],
   "source": [
    "spark.sql('SELECT Avg(`Total Unemployment in State/Area`) AS Total_Unemployment, `State/Area`\\\n",
    "FROM unemploymentDetails where Year=2022 group by `State/Area` Order by Total_Unemployment desc LIMIT 10').show()"
   ]
  },
  {
   "cell_type": "code",
   "execution_count": 38,
   "id": "9cd2c30e-bf94-44f8-8b03-b4691b9987d8",
   "metadata": {
    "tags": []
   },
   "outputs": [
    {
     "name": "stdout",
     "output_type": "stream",
     "text": [
      "+------------------+----+-----+----------+\n",
      "|Total_Unemployment|Year|Month|State/Area|\n",
      "+------------------+----+-----+----------+\n",
      "|            994165|2022|    1|California|\n",
      "|            909437|2022|    2|California|\n",
      "|            837088|2022|    3|California|\n",
      "|            798481|2022|   10|California|\n",
      "|            797702|2022|   11|California|\n",
      "|            791466|2022|    4|California|\n",
      "|            790262|2022|   12|California|\n",
      "|            769532|2022|    9|California|\n",
      "|            760435|2022|    5|California|\n",
      "|            743821|2022|    6|California|\n",
      "|            732210|2022|    7|California|\n",
      "|            723589|2022|    8|California|\n",
      "+------------------+----+-----+----------+\n",
      "\n"
     ]
    }
   ],
   "source": [
    "spark.sql('SELECT MAX(`Total Unemployment in State/Area`) AS Total_Unemployment,Year,Month,`State/Area` FROM unemploymentDetails where year =2022 Group by Year,Month,`State/Area` Order by Total_Unemployment desc LIMIT 12').show()"
   ]
  },
  {
   "cell_type": "code",
   "execution_count": 46,
   "id": "7d98c5ad-91a0-4420-9472-19d08661ccb6",
   "metadata": {
    "tags": []
   },
   "outputs": [
    {
     "name": "stdout",
     "output_type": "stream",
     "text": [
      "+----------------+----+-----+----------+\n",
      "|Total_Employment|Year|Month|State/Area|\n",
      "+----------------+----+-----+----------+\n",
      "|        18512138|2022|    6|California|\n",
      "|        18506108|2022|    7|California|\n",
      "|        18489323|2022|    5|California|\n",
      "|        18488550|2022|    8|California|\n",
      "|        18484393|2022|   11|California|\n",
      "|        18482096|2022|   12|California|\n",
      "|        18475849|2022|   10|California|\n",
      "|        18471241|2022|    9|California|\n",
      "|        18455355|2022|    4|California|\n",
      "|        18382817|2022|    3|California|\n",
      "|        18301764|2022|    2|California|\n",
      "|        18205836|2022|    1|California|\n",
      "+----------------+----+-----+----------+\n",
      "\n"
     ]
    }
   ],
   "source": [
    "spark.sql('SELECT MAX(`Total Employment in State/Area`) AS Total_Employment,Year,Month,`State/Area` FROM unemploymentDetails\\\n",
    " where year=2022\\\n",
    "  group by Year,Month,`State/Area` order by Total_Employment desc LIMIT 12').show()"
   ]
  },
  {
   "cell_type": "code",
   "execution_count": 53,
   "id": "b6f44234-3b90-45c0-a56b-e9d1d3085d73",
   "metadata": {
    "tags": []
   },
   "outputs": [
    {
     "name": "stdout",
     "output_type": "stream",
     "text": [
      "+--------------------+---------------------------------------------------+------------+\n",
      "|          State/Area|Percent (%) of Labor Force Unemployed in State/Area|MonthDetails|\n",
      "+--------------------+---------------------------------------------------+------------+\n",
      "|District of Columbia|                                                6.0|     January|\n",
      "|District of Columbia|                                                5.6|    February|\n",
      "|              Nevada|                                                5.4|     January|\n",
      "|          New Mexico|                                                5.4|     January|\n",
      "|              Nevada|                                                5.3|    February|\n",
      "|              Nevada|                                                5.3|       March|\n",
      "|          California|                                                5.2|     January|\n",
      "|District of Columbia|                                                5.2|       March|\n",
      "|              Alaska|                                                5.1|     January|\n",
      "|          New Jersey|                                                5.1|     January|\n",
      "|            New York|                                                5.1|     January|\n",
      "|          New Mexico|                                                5.0|    February|\n",
      "|         Connecticut|                                                4.8|     January|\n",
      "|            Illinois|                                                4.8|     January|\n",
      "|              Alaska|                                                4.7|    February|\n",
      "|          California|                                                4.7|    February|\n",
      "|            New York|                                                4.7|    February|\n",
      "|            Delaware|                                                4.6|     January|\n",
      "|         Connecticut|                                                4.6|    February|\n",
      "|            Illinois|                                                4.6|    February|\n",
      "+--------------------+---------------------------------------------------+------------+\n",
      "\n"
     ]
    }
   ],
   "source": [
    "spark.sql('SELECT `State/Area`, `Percent (%) of Labor Force Unemployed in State/Area`, \\\n",
    "case when Month = 1 then \"January\"\\\n",
    "when Month = 2 then \"February\" \\\n",
    "when Month = 3 then \"March\" \\\n",
    "else \"NOT IN FIRST QUARTER\" end as MonthDetails \\\n",
    "from unemploymentDetails where Year=2022 and Month in(1,2,3) order by `Percent (%) of Labor Force Unemployed in State/Area` desc LIMIT 20').show()"
   ]
  },
  {
   "cell_type": "code",
   "execution_count": 54,
   "id": "abf12343-d15b-48df-8bb1-110632fcee49",
   "metadata": {
    "tags": []
   },
   "outputs": [
    {
     "name": "stdout",
     "output_type": "stream",
     "text": [
      "+--------------------+-------------------------------------------------+------------+\n",
      "|          State/Area|Percent (%) of Labor Force Employed in State/Area|MonthDetails|\n",
      "+--------------------+-------------------------------------------------+------------+\n",
      "|            Nebraska|                                             68.4|       March|\n",
      "|            Nebraska|                                             68.3|    February|\n",
      "|            Nebraska|                                             68.1|     January|\n",
      "|        North Dakota|                                             68.0|       March|\n",
      "|        North Dakota|                                             67.8|    February|\n",
      "|        North Dakota|                                             67.6|     January|\n",
      "|        South Dakota|                                             67.3|       March|\n",
      "|                Utah|                                             67.2|       March|\n",
      "|        South Dakota|                                             67.2|    February|\n",
      "|        South Dakota|                                             67.1|     January|\n",
      "|                Utah|                                             67.0|    February|\n",
      "|District of Columbia|                                             67.0|       March|\n",
      "|                Utah|                                             66.8|     January|\n",
      "|                Iowa|                                             66.5|       March|\n",
      "|            Colorado|                                             66.5|       March|\n",
      "|           Minnesota|                                             66.4|       March|\n",
      "|District of Columbia|                                             66.4|    February|\n",
      "|                Iowa|                                             66.3|    February|\n",
      "|            Colorado|                                             66.2|    February|\n",
      "|           Minnesota|                                             66.2|    February|\n",
      "+--------------------+-------------------------------------------------+------------+\n",
      "\n"
     ]
    }
   ],
   "source": [
    "spark.sql('SELECT `State/Area`, `Percent (%) of Labor Force Employed in State/Area`, \\\n",
    "case when Month = 1 then \"January\"\\\n",
    "when Month = 2 then \"February\" \\\n",
    "when Month = 3 then \"March\" \\\n",
    "else \"NOT IN FIRST QUARTER\" end as MonthDetails \\\n",
    "from unemploymentDetails where Year=2022 and Month in(1,2,3) order by `Percent (%) of Labor Force Employed in State/Area` desc LIMIT 20').show()"
   ]
  },
  {
   "cell_type": "code",
   "execution_count": 64,
   "id": "ca35e309-a77c-43bc-9be0-e9c22314abf5",
   "metadata": {
    "tags": []
   },
   "outputs": [
    {
     "name": "stdout",
     "output_type": "stream",
     "text": [
      "+----------------------+-------------+\n",
      "|TotalPercentEmployment|   State/Area|\n",
      "+----------------------+-------------+\n",
      "|     68.29290780141841|    Minnesota|\n",
      "|     68.12127659574467|     Nebraska|\n",
      "|      67.3890070921986| South Dakota|\n",
      "|      67.1929078014184|New Hampshire|\n",
      "|     67.00851063829784| North Dakota|\n",
      "|     66.70602836879435|     Colorado|\n",
      "|     66.50248226950352|         Iowa|\n",
      "|     66.06347517730492|      Wyoming|\n",
      "|      65.9620567375887|         Utah|\n",
      "|     65.94645390070932|      Vermont|\n",
      "+----------------------+-------------+\n",
      "\n"
     ]
    }
   ],
   "source": [
    "spark.sql('SELECT AVG(`Percent (%) of Labor Force Employed in State/Area`) AS TotalPercentEmployment, `State/Area` \\\n",
    "          FROM unemploymentDetails group by `State/Area` Order by TotalPercentEmployment desc LIMIT 10').show()"
   ]
  },
  {
   "cell_type": "code",
   "execution_count": 65,
   "id": "df98b647-527f-41a4-8cb3-cca6725e3163",
   "metadata": {
    "tags": []
   },
   "outputs": [
    {
     "name": "stdout",
     "output_type": "stream",
     "text": [
      "+------------------------+--------------------+\n",
      "|TotalPercentUnemployment|          State/Area|\n",
      "+------------------------+--------------------+\n",
      "|       7.970212765957453|       West Virginia|\n",
      "|       7.744148936170211|            Michigan|\n",
      "|       7.721453900709224|              Alaska|\n",
      "|      7.5264184397163145|District of Columbia|\n",
      "|       7.348936170212776|         Mississippi|\n",
      "|       7.230496453900716|          California|\n",
      "|      7.0104609929078014|           Louisiana|\n",
      "|       6.850354609929077|            Illinois|\n",
      "|       6.847340425531915|             Alabama|\n",
      "|       6.847163120567378|              Oregon|\n",
      "+------------------------+--------------------+\n",
      "\n"
     ]
    }
   ],
   "source": [
    "spark.sql('SELECT AVG(`Percent (%) of Labor Force Unemployed in State/Area`) AS TotalPercentUnemployment, `State/Area` \\\n",
    "          FROM unemploymentDetails group by `State/Area` Order by TotalPercentUnemployment desc LIMIT 10').show()"
   ]
  },
  {
   "cell_type": "code",
   "execution_count": null,
   "id": "8074c6d9-2bc9-47cb-8aa5-dfbcf31ae345",
   "metadata": {},
   "outputs": [],
   "source": []
  }
 ],
 "metadata": {
  "kernelspec": {
   "display_name": "Python 3 (ipykernel)",
   "language": "python",
   "name": "python3"
  },
  "language_info": {
   "codemirror_mode": {
    "name": "ipython",
    "version": 3
   },
   "file_extension": ".py",
   "mimetype": "text/x-python",
   "name": "python",
   "nbconvert_exporter": "python",
   "pygments_lexer": "ipython3",
   "version": "3.10.3"
  }
 },
 "nbformat": 4,
 "nbformat_minor": 5
}
